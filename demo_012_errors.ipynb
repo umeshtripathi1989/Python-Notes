{
  "cells": [
    {
      "cell_type": "markdown",
      "metadata": {
        "id": "view-in-github",
        "colab_type": "text"
      },
      "source": [
        "<a href=\"https://colab.research.google.com/github/umeshtripathi1989/Python-Notes/blob/main/dem0_012_errors.ipynb\" target=\"_parent\"><img src=\"https://colab.research.google.com/assets/colab-badge.svg\" alt=\"Open In Colab\"/></a>"
      ]
    },
    {
      "cell_type": "raw",
      "id": "fc755b8f-a959-46f2-bfaa-e281753b18e4",
      "metadata": {
        "id": "fc755b8f-a959-46f2-bfaa-e281753b18e4"
      },
      "source": [
        "Assertion Error"
      ]
    },
    {
      "cell_type": "code",
      "execution_count": null,
      "id": "27f07b53-a666-4add-abf6-ee563ffa7bed",
      "metadata": {
        "id": "27f07b53-a666-4add-abf6-ee563ffa7bed",
        "outputId": "683d1b47-f399-4673-98fe-da3405de776d"
      },
      "outputs": [
        {
          "ename": "AssertionError",
          "evalue": "Invalid operation",
          "output_type": "error",
          "traceback": [
            "\u001b[0;31m---------------------------------------------------------------------------\u001b[0m",
            "\u001b[0;31mAssertionError\u001b[0m                            Traceback (most recent call last)",
            "Cell \u001b[0;32mIn [7], line 3\u001b[0m\n\u001b[1;32m      1\u001b[0m x\u001b[38;5;241m=\u001b[39m\u001b[38;5;241m1\u001b[39m\n\u001b[1;32m      2\u001b[0m y\u001b[38;5;241m=\u001b[39m\u001b[38;5;241m3\u001b[39m\n\u001b[0;32m----> 3\u001b[0m \u001b[38;5;28;01massert\u001b[39;00m y\u001b[38;5;241m!=\u001b[39m\u001b[38;5;241m3\u001b[39m,\u001b[38;5;124m\"\u001b[39m\u001b[38;5;124mInvalid operation\u001b[39m\u001b[38;5;124m\"\u001b[39m\n\u001b[1;32m      4\u001b[0m \u001b[38;5;28mprint\u001b[39m(x\u001b[38;5;241m/\u001b[39my)\n",
            "\u001b[0;31mAssertionError\u001b[0m: Invalid operation"
          ]
        }
      ],
      "source": [
        "x=1\n",
        "y=3\n",
        "assert y!=3,\"Invalid operation\"\n",
        "print(x/y)"
      ]
    },
    {
      "cell_type": "code",
      "execution_count": null,
      "id": "a0b0164c-1395-4360-bdc8-0c8e41b0f495",
      "metadata": {
        "id": "a0b0164c-1395-4360-bdc8-0c8e41b0f495"
      },
      "outputs": [],
      "source": [
        "y=10"
      ]
    },
    {
      "cell_type": "code",
      "execution_count": null,
      "id": "869502ea-dcb0-4cbe-914a-a5fde4010282",
      "metadata": {
        "id": "869502ea-dcb0-4cbe-914a-a5fde4010282",
        "outputId": "ae68bf9d-a955-47c9-bb48-efedec0ceb15"
      },
      "outputs": [
        {
          "ename": "AttributeError",
          "evalue": "'int' object has no attribute 'append'",
          "output_type": "error",
          "traceback": [
            "\u001b[0;31m---------------------------------------------------------------------------\u001b[0m",
            "\u001b[0;31mAttributeError\u001b[0m                            Traceback (most recent call last)",
            "Cell \u001b[0;32mIn [10], line 1\u001b[0m\n\u001b[0;32m----> 1\u001b[0m \u001b[43my\u001b[49m\u001b[38;5;241;43m.\u001b[39;49m\u001b[43mappend\u001b[49m(\u001b[38;5;241m6\u001b[39m)\n",
            "\u001b[0;31mAttributeError\u001b[0m: 'int' object has no attribute 'append'"
          ]
        }
      ],
      "source": [
        "y.append(6)"
      ]
    },
    {
      "cell_type": "code",
      "execution_count": null,
      "id": "01cd4ca6-fedb-40cf-91a5-31c9fdded5fe",
      "metadata": {
        "id": "01cd4ca6-fedb-40cf-91a5-31c9fdded5fe"
      },
      "outputs": [],
      "source": [
        "mylist=[1,2,3,4,5,6,7,8]"
      ]
    },
    {
      "cell_type": "code",
      "execution_count": null,
      "id": "cdd4b967-df0a-4e87-bec9-abe6e8d259e3",
      "metadata": {
        "id": "cdd4b967-df0a-4e87-bec9-abe6e8d259e3",
        "outputId": "e3d6cfd4-0739-4855-d5f9-2eeca940f3ee"
      },
      "outputs": [
        {
          "ename": "IndexError",
          "evalue": "list index out of range",
          "output_type": "error",
          "traceback": [
            "\u001b[0;31m---------------------------------------------------------------------------\u001b[0m",
            "\u001b[0;31mIndexError\u001b[0m                                Traceback (most recent call last)",
            "Cell \u001b[0;32mIn [12], line 1\u001b[0m\n\u001b[0;32m----> 1\u001b[0m \u001b[43mmylist\u001b[49m\u001b[43m[\u001b[49m\u001b[38;5;241;43m10\u001b[39;49m\u001b[43m]\u001b[49m\n",
            "\u001b[0;31mIndexError\u001b[0m: list index out of range"
          ]
        }
      ],
      "source": [
        "mylist[10]"
      ]
    },
    {
      "cell_type": "code",
      "execution_count": null,
      "id": "4cac2b3d-0873-40ac-8e44-00f7c533238b",
      "metadata": {
        "id": "4cac2b3d-0873-40ac-8e44-00f7c533238b"
      },
      "outputs": [],
      "source": [
        "mydict={\n",
        "    \"name\":\"imran\",\n",
        "    \"course\":\"python\"\n",
        "}\n"
      ]
    },
    {
      "cell_type": "code",
      "execution_count": null,
      "id": "d429a7e5-402d-4c9e-94f6-c94d071e1837",
      "metadata": {
        "id": "d429a7e5-402d-4c9e-94f6-c94d071e1837",
        "outputId": "b3dac9fa-3fe0-4799-97f0-5fc4acf0c884"
      },
      "outputs": [
        {
          "ename": "KeyError",
          "evalue": "'age'",
          "output_type": "error",
          "traceback": [
            "\u001b[0;31m---------------------------------------------------------------------------\u001b[0m",
            "\u001b[0;31mKeyError\u001b[0m                                  Traceback (most recent call last)",
            "Cell \u001b[0;32mIn [15], line 1\u001b[0m\n\u001b[0;32m----> 1\u001b[0m \u001b[43mmydict\u001b[49m\u001b[43m[\u001b[49m\u001b[38;5;124;43m\"\u001b[39;49m\u001b[38;5;124;43mage\u001b[39;49m\u001b[38;5;124;43m\"\u001b[39;49m\u001b[43m]\u001b[49m\n",
            "\u001b[0;31mKeyError\u001b[0m: 'age'"
          ]
        }
      ],
      "source": [
        "mydict[\"age\"]\n"
      ]
    },
    {
      "cell_type": "code",
      "execution_count": null,
      "id": "d7a1d901-e0d5-4553-a1db-d5cbc1562a1b",
      "metadata": {
        "id": "d7a1d901-e0d5-4553-a1db-d5cbc1562a1b",
        "outputId": "121ed944-c44e-4e2d-d8be-f1abb992ef3d"
      },
      "outputs": [
        {
          "ename": "NameError",
          "evalue": "name 'm' is not defined",
          "output_type": "error",
          "traceback": [
            "\u001b[0;31m---------------------------------------------------------------------------\u001b[0m",
            "\u001b[0;31mNameError\u001b[0m                                 Traceback (most recent call last)",
            "Cell \u001b[0;32mIn [16], line 1\u001b[0m\n\u001b[0;32m----> 1\u001b[0m \u001b[38;5;28mprint\u001b[39m(\u001b[43mm\u001b[49m)\n",
            "\u001b[0;31mNameError\u001b[0m: name 'm' is not defined"
          ]
        }
      ],
      "source": [
        "print(m)"
      ]
    },
    {
      "cell_type": "code",
      "execution_count": null,
      "id": "3df8cc05-89fb-414f-8e4b-f32b02935577",
      "metadata": {
        "id": "3df8cc05-89fb-414f-8e4b-f32b02935577"
      },
      "outputs": [],
      "source": [
        "import math"
      ]
    },
    {
      "cell_type": "code",
      "execution_count": null,
      "id": "978e9e58-f208-469d-b29b-8f085a479c62",
      "metadata": {
        "id": "978e9e58-f208-469d-b29b-8f085a479c62",
        "outputId": "b0e7d0b0-fe52-4794-f3d2-ed17fd6858b4"
      },
      "outputs": [
        {
          "ename": "ValueError",
          "evalue": "math domain error",
          "output_type": "error",
          "traceback": [
            "\u001b[0;31m---------------------------------------------------------------------------\u001b[0m",
            "\u001b[0;31mValueError\u001b[0m                                Traceback (most recent call last)",
            "Cell \u001b[0;32mIn [18], line 1\u001b[0m\n\u001b[0;32m----> 1\u001b[0m \u001b[43mmath\u001b[49m\u001b[38;5;241;43m.\u001b[39;49m\u001b[43msqrt\u001b[49m\u001b[43m(\u001b[49m\u001b[38;5;241;43m-\u001b[39;49m\u001b[38;5;241;43m200\u001b[39;49m\u001b[43m)\u001b[49m\n",
            "\u001b[0;31mValueError\u001b[0m: math domain error"
          ]
        }
      ],
      "source": [
        "math.sqrt(-200)"
      ]
    },
    {
      "cell_type": "code",
      "execution_count": null,
      "id": "4728cf38-c218-409a-b890-68dccab33beb",
      "metadata": {
        "id": "4728cf38-c218-409a-b890-68dccab33beb"
      },
      "outputs": [],
      "source": []
    }
  ],
  "metadata": {
    "kernelspec": {
      "display_name": "Python 3 (ipykernel)",
      "language": "python",
      "name": "python3"
    },
    "language_info": {
      "codemirror_mode": {
        "name": "ipython",
        "version": 3
      },
      "file_extension": ".py",
      "mimetype": "text/x-python",
      "name": "python",
      "nbconvert_exporter": "python",
      "pygments_lexer": "ipython3",
      "version": "3.10.6"
    },
    "colab": {
      "provenance": [],
      "include_colab_link": true
    }
  },
  "nbformat": 4,
  "nbformat_minor": 5
}
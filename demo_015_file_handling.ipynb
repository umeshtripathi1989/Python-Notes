{
  "cells": [
    {
      "cell_type": "markdown",
      "metadata": {
        "id": "view-in-github",
        "colab_type": "text"
      },
      "source": [
        "<a href=\"https://colab.research.google.com/github/umeshtripathi1989/Python-Notes/blob/main/demo_015_file_handling.ipynb\" target=\"_parent\"><img src=\"https://colab.research.google.com/assets/colab-badge.svg\" alt=\"Open In Colab\"/></a>"
      ]
    },
    {
      "cell_type": "code",
      "execution_count": null,
      "id": "9a1fed31-71eb-4403-a9bc-43ec93d035b4",
      "metadata": {
        "id": "9a1fed31-71eb-4403-a9bc-43ec93d035b4"
      },
      "outputs": [],
      "source": [
        "# File handling"
      ]
    },
    {
      "cell_type": "code",
      "execution_count": null,
      "id": "748f1a1d-ccd3-4dc7-9c8f-c4e863835749",
      "metadata": {
        "id": "748f1a1d-ccd3-4dc7-9c8f-c4e863835749",
        "outputId": "8ccc2171-d7a5-47e4-dfdc-5b75e8d2225d"
      },
      "outputs": [
        {
          "name": "stdout",
          "output_type": "stream",
          "text": [
            "error.txt    README.md          test2.txt  Untitled1.ipynb  Untitled.ipynb\n",
            "ineuron.txt  sample-code.ipynb  test3.txt  Untitled2.ipynb\n",
            "new.txt      test1.txt          test.txt   Untitled3.ipynb\n"
          ]
        }
      ],
      "source": [
        "%lsls\n"
      ]
    },
    {
      "cell_type": "code",
      "execution_count": null,
      "id": "5e9b01cf-3284-452c-9d09-1d26603602dd",
      "metadata": {
        "id": "5e9b01cf-3284-452c-9d09-1d26603602dd",
        "outputId": "65daa0e3-dc4b-4944-950a-7d5d5b38faba"
      },
      "outputs": [
        {
          "name": "stdout",
          "output_type": "stream",
          "text": [
            "error.txt    README.md          test2.txt  Untitled1.ipynb  Untitled.ipynb\n",
            "ineuron.txt  sample-code.ipynb  test3.txt  Untitled2.ipynb\n",
            "new.txt      test1.txt          test.txt   Untitled3.ipynb\n"
          ]
        }
      ],
      "source": [
        "ls"
      ]
    },
    {
      "cell_type": "code",
      "execution_count": null,
      "id": "c1956bfa-45fd-46ce-a4db-7e2d2b8f0a9a",
      "metadata": {
        "id": "c1956bfa-45fd-46ce-a4db-7e2d2b8f0a9a"
      },
      "outputs": [],
      "source": []
    },
    {
      "cell_type": "code",
      "execution_count": null,
      "id": "f38f3cfc-fdb4-4a02-8b3e-466bdead554e",
      "metadata": {
        "id": "f38f3cfc-fdb4-4a02-8b3e-466bdead554e",
        "outputId": "c61d3978-9afc-4217-af5d-3363f49afce0"
      },
      "outputs": [
        {
          "data": {
            "text/plain": [
              "'/home/jovyan/work'"
            ]
          },
          "execution_count": 81,
          "metadata": {},
          "output_type": "execute_result"
        }
      ],
      "source": [
        "pwd()"
      ]
    },
    {
      "cell_type": "code",
      "execution_count": null,
      "id": "0a11eee7-0058-44ab-bab7-5a42751c8ca7",
      "metadata": {
        "id": "0a11eee7-0058-44ab-bab7-5a42751c8ca7"
      },
      "outputs": [],
      "source": [
        "#used to open file\n",
        "f=open(\"test.txt\")"
      ]
    },
    {
      "cell_type": "code",
      "execution_count": null,
      "id": "7ae7162a-d4b1-46cd-8e35-408916a2c12c",
      "metadata": {
        "id": "7ae7162a-d4b1-46cd-8e35-408916a2c12c",
        "outputId": "8e7fa35e-aaa1-4636-c06d-4412d39524af"
      },
      "outputs": [
        {
          "data": {
            "text/plain": [
              "_io.TextIOWrapper"
            ]
          },
          "execution_count": 5,
          "metadata": {},
          "output_type": "execute_result"
        }
      ],
      "source": [
        "type(f)"
      ]
    },
    {
      "cell_type": "code",
      "execution_count": null,
      "id": "0b2c846e-8464-4f96-9b69-b5877a36ba78",
      "metadata": {
        "id": "0b2c846e-8464-4f96-9b69-b5877a36ba78"
      },
      "outputs": [],
      "source": [
        "f.close()"
      ]
    },
    {
      "cell_type": "code",
      "execution_count": null,
      "id": "08c4a311-3363-45bc-b5b0-02691672bfcb",
      "metadata": {
        "id": "08c4a311-3363-45bc-b5b0-02691672bfcb"
      },
      "outputs": [],
      "source": [
        "#f=open(r\"C:/users/imran/downloads/text.txt\",'r')"
      ]
    },
    {
      "cell_type": "code",
      "execution_count": null,
      "id": "1c9e8396-fe71-459d-8cb9-622e02b70718",
      "metadata": {
        "id": "1c9e8396-fe71-459d-8cb9-622e02b70718"
      },
      "outputs": [],
      "source": []
    },
    {
      "cell_type": "code",
      "execution_count": null,
      "id": "382de5a4-81ee-42a0-b895-b18f2ef7f52e",
      "metadata": {
        "id": "382de5a4-81ee-42a0-b895-b18f2ef7f52e"
      },
      "outputs": [],
      "source": [
        "#how to read a file"
      ]
    },
    {
      "cell_type": "code",
      "execution_count": null,
      "id": "5881dbf0-cc6a-4631-8346-02e9ac5d78ca",
      "metadata": {
        "id": "5881dbf0-cc6a-4631-8346-02e9ac5d78ca"
      },
      "outputs": [],
      "source": [
        "f=open(\"test.txt\")"
      ]
    },
    {
      "cell_type": "code",
      "execution_count": null,
      "id": "37c2fe2a-a61d-4481-9921-0cd292bf8d05",
      "metadata": {
        "id": "37c2fe2a-a61d-4481-9921-0cd292bf8d05",
        "outputId": "68a32ef8-0e4d-4fec-d3a7-4e425553a5e8"
      },
      "outputs": [
        {
          "data": {
            "text/plain": [
              "'i write code\\nfirst line\\nsecond line\\nthird\\nineuron\\nbdjgdj\\njagjsbf\\n'"
            ]
          },
          "execution_count": 16,
          "metadata": {},
          "output_type": "execute_result"
        }
      ],
      "source": [
        "f.read()"
      ]
    },
    {
      "cell_type": "code",
      "execution_count": null,
      "id": "5f5ef331-06a7-42c9-8b18-f32d234efcdb",
      "metadata": {
        "id": "5f5ef331-06a7-42c9-8b18-f32d234efcdb",
        "outputId": "ac244a89-cf33-42d4-d961-9f662d6333b2"
      },
      "outputs": [
        {
          "data": {
            "text/plain": [
              "'i wr'"
            ]
          },
          "execution_count": 24,
          "metadata": {},
          "output_type": "execute_result"
        }
      ],
      "source": [
        "f.read(4)\n",
        "#this will read 4 data"
      ]
    },
    {
      "cell_type": "code",
      "execution_count": null,
      "id": "1fa52fb3-5e85-4a92-8211-af6778731a83",
      "metadata": {
        "id": "1fa52fb3-5e85-4a92-8211-af6778731a83",
        "outputId": "d272149b-abe5-4563-b6a0-b5731124f7a0"
      },
      "outputs": [
        {
          "data": {
            "text/plain": [
              "'i wri'"
            ]
          },
          "execution_count": 43,
          "metadata": {},
          "output_type": "execute_result"
        }
      ],
      "source": [
        "f.read(5)"
      ]
    },
    {
      "cell_type": "code",
      "execution_count": null,
      "id": "312a1922-9143-4a98-b3c6-162e22938184",
      "metadata": {
        "id": "312a1922-9143-4a98-b3c6-162e22938184",
        "outputId": "ab18952d-085c-4c20-9210-300580c20245"
      },
      "outputs": [
        {
          "data": {
            "text/plain": [
              "0"
            ]
          },
          "execution_count": 47,
          "metadata": {},
          "output_type": "execute_result"
        }
      ],
      "source": [
        "f.seek(0)"
      ]
    },
    {
      "cell_type": "code",
      "execution_count": null,
      "id": "088e6c27-bd2e-4798-b1dc-49aa5114b4a8",
      "metadata": {
        "id": "088e6c27-bd2e-4798-b1dc-49aa5114b4a8",
        "outputId": "dcac866b-de4f-43dd-eec2-3f125d015016"
      },
      "outputs": [
        {
          "data": {
            "text/plain": [
              "14"
            ]
          },
          "execution_count": 27,
          "metadata": {},
          "output_type": "execute_result"
        }
      ],
      "source": [
        "f.tell()\n",
        "#get the current file position"
      ]
    },
    {
      "cell_type": "code",
      "execution_count": null,
      "id": "70a28f79-d499-4094-b9fd-ae9e2c14b1ad",
      "metadata": {
        "id": "70a28f79-d499-4094-b9fd-ae9e2c14b1ad",
        "outputId": "9ce57280-2031-43db-f826-f8520884ff54"
      },
      "outputs": [
        {
          "data": {
            "text/plain": [
              "[]"
            ]
          },
          "execution_count": 46,
          "metadata": {},
          "output_type": "execute_result"
        }
      ],
      "source": [
        "f.readlines()"
      ]
    },
    {
      "cell_type": "code",
      "execution_count": null,
      "id": "d3163ee6-b21c-40f8-a5a4-a6fcc35a1b97",
      "metadata": {
        "id": "d3163ee6-b21c-40f8-a5a4-a6fcc35a1b97"
      },
      "outputs": [],
      "source": [
        "try:\n",
        "    f=open(\"test.txt\")\n",
        "finally:\n",
        "    f.close()"
      ]
    },
    {
      "cell_type": "code",
      "execution_count": null,
      "id": "45e47419-77ca-407f-8e17-d73c9df1fbc9",
      "metadata": {
        "id": "45e47419-77ca-407f-8e17-d73c9df1fbc9"
      },
      "outputs": [],
      "source": [
        "f=open(\"test.txt\")"
      ]
    },
    {
      "cell_type": "code",
      "execution_count": null,
      "id": "8b56a9e6-94e1-4c5c-8cb6-bbb501cc7375",
      "metadata": {
        "id": "8b56a9e6-94e1-4c5c-8cb6-bbb501cc7375"
      },
      "outputs": [],
      "source": [
        "with open(\"test.txt\") as f:\n",
        "    #file operation\n",
        "    f.read()\n",
        "    pass"
      ]
    },
    {
      "cell_type": "code",
      "execution_count": null,
      "id": "f3fe146d-b3c4-4e57-9899-75864d62a38a",
      "metadata": {
        "id": "f3fe146d-b3c4-4e57-9899-75864d62a38a"
      },
      "outputs": [],
      "source": [
        "#write a file"
      ]
    },
    {
      "cell_type": "code",
      "execution_count": null,
      "id": "4933694c-b27a-4f90-b665-ce416a5d5156",
      "metadata": {
        "id": "4933694c-b27a-4f90-b665-ce416a5d5156",
        "outputId": "d4396da7-8dc5-4ac9-bb09-103a51e55577"
      },
      "outputs": [
        {
          "name": "stdout",
          "output_type": "stream",
          "text": [
            "done\n"
          ]
        }
      ],
      "source": [
        "data=\"ineuron\"\n",
        "f=open(\"test1.txt\",'w')\n",
        "f.write(data)\n",
        "print(\"done\")\n",
        "f.close()"
      ]
    },
    {
      "cell_type": "code",
      "execution_count": null,
      "id": "ae10778d-05d0-49eb-91a2-429d71d1f7df",
      "metadata": {
        "id": "ae10778d-05d0-49eb-91a2-429d71d1f7df"
      },
      "outputs": [],
      "source": [
        "with open(\"test2.txt\",'w') as f:\n",
        "    f.write(\"ineuiron line\\n\")\n",
        "    f.write(\"ineuon line\\n\")"
      ]
    },
    {
      "cell_type": "code",
      "execution_count": null,
      "id": "8a223fed-13fa-46d5-ba37-7340519ba67a",
      "metadata": {
        "id": "8a223fed-13fa-46d5-ba37-7340519ba67a",
        "outputId": "0d8b210b-4e04-4181-a124-46ff2d8163cc"
      },
      "outputs": [
        {
          "name": "stdin",
          "output_type": "stream",
          "text": [
            "enter the first number 8\n",
            "enter the second number 0\n"
          ]
        },
        {
          "name": "stdout",
          "output_type": "stream",
          "text": [
            "there is some isseu with my code division by zero\n",
            "hi\n"
          ]
        }
      ],
      "source": [
        "try:\n",
        "    a=int(input(\"enter the first number\"))\n",
        "    b=int(input(\"enter the second number\"))\n",
        "    c=a/b\n",
        "except ArithmeticError as e:\n",
        "    print(\"there is some isseu with my code\", e)\n",
        "    f=open(\"error5.txt\",'w+')\n",
        "    f.write(\"hi\")\n",
        "    #f.write(str(e))\n",
        "    #f.close()\n",
        "    f.seek(0)\n",
        "    print(f.read())\n",
        "else:\n",
        "    print(\"this will excecute once try is suceess\")\n",
        "    try:\n",
        "        f= open(\"test3.txt\",'w')\n",
        "    except:\n",
        "        print(\"this is and isse with try block\")\n",
        "\n",
        ""
      ]
    },
    {
      "cell_type": "code",
      "execution_count": null,
      "id": "d683f8ee-ae9c-4677-bf7a-3435a5d331f7",
      "metadata": {
        "id": "d683f8ee-ae9c-4677-bf7a-3435a5d331f7",
        "outputId": "996357c7-9c93-4227-c639-b9f98b3d14c2"
      },
      "outputs": [
        {
          "data": {
            "text/plain": [
              "'error5.txt'"
            ]
          },
          "execution_count": 105,
          "metadata": {},
          "output_type": "execute_result"
        }
      ],
      "source": [
        "f.name"
      ]
    },
    {
      "cell_type": "code",
      "execution_count": null,
      "id": "2edab608-3c96-49d7-b057-4b825209499b",
      "metadata": {
        "id": "2edab608-3c96-49d7-b057-4b825209499b",
        "outputId": "0c5a8980-1514-4808-d577-dfb86801ac10"
      },
      "outputs": [
        {
          "name": "stdout",
          "output_type": "stream",
          "text": [
            "hi\n"
          ]
        }
      ],
      "source": [
        "f.seek(0)\n",
        "print(f.read())"
      ]
    },
    {
      "cell_type": "code",
      "execution_count": null,
      "id": "494209fd-605d-4610-81be-e7c62dcdb35b",
      "metadata": {
        "id": "494209fd-605d-4610-81be-e7c62dcdb35b"
      },
      "outputs": [],
      "source": [
        "# r open a filefor readding\n",
        "# w opens a file for writing and creates a new file if its does not exits or tructaes the file if exitss\n",
        "# x opens a file for exclustive creation if the file already exits operations\n",
        "# a open a file for appending at ethe ned of file\n",
        "# + oepns a file for updating (reading a dwriting)"
      ]
    },
    {
      "cell_type": "code",
      "execution_count": null,
      "id": "40db8a40-7863-4a9a-8ec4-c03997eafe8a",
      "metadata": {
        "id": "40db8a40-7863-4a9a-8ec4-c03997eafe8a",
        "outputId": "36ec1de1-ace4-419e-e140-e7c0158cf22d"
      },
      "outputs": [
        {
          "ename": "FileExistsError",
          "evalue": "[Errno 17] File exists: 'new.txt'",
          "output_type": "error",
          "traceback": [
            "\u001b[0;31m---------------------------------------------------------------------------\u001b[0m",
            "\u001b[0;31mFileExistsError\u001b[0m                           Traceback (most recent call last)",
            "Cell \u001b[0;32mIn [78], line 1\u001b[0m\n\u001b[0;32m----> 1\u001b[0m f\u001b[38;5;241m=\u001b[39m\u001b[38;5;28;43mopen\u001b[39;49m\u001b[43m(\u001b[49m\u001b[38;5;124;43m\"\u001b[39;49m\u001b[38;5;124;43mnew.txt\u001b[39;49m\u001b[38;5;124;43m\"\u001b[39;49m\u001b[43m,\u001b[49m\u001b[38;5;124;43m'\u001b[39;49m\u001b[38;5;124;43mx\u001b[39;49m\u001b[38;5;124;43m'\u001b[39;49m\u001b[43m)\u001b[49m\n",
            "\u001b[0;31mFileExistsError\u001b[0m: [Errno 17] File exists: 'new.txt'"
          ]
        }
      ],
      "source": [
        "f=open(\"new.txt\",'x')"
      ]
    }
  ],
  "metadata": {
    "kernelspec": {
      "display_name": "Python 3 (ipykernel)",
      "language": "python",
      "name": "python3"
    },
    "language_info": {
      "codemirror_mode": {
        "name": "ipython",
        "version": 3
      },
      "file_extension": ".py",
      "mimetype": "text/x-python",
      "name": "python",
      "nbconvert_exporter": "python",
      "pygments_lexer": "ipython3",
      "version": "3.10.6"
    },
    "colab": {
      "provenance": [],
      "include_colab_link": true
    }
  },
  "nbformat": 4,
  "nbformat_minor": 5
}
{
  "cells": [
    {
      "cell_type": "markdown",
      "metadata": {
        "id": "view-in-github",
        "colab_type": "text"
      },
      "source": [
        "<a href=\"https://colab.research.google.com/github/umeshtripathi1989/Python-Notes/blob/main/demo_011_13th_Nov(function_continued_(4)).ipynb\" target=\"_parent\"><img src=\"https://colab.research.google.com/assets/colab-badge.svg\" alt=\"Open In Colab\"/></a>"
      ]
    },
    {
      "cell_type": "code",
      "execution_count": null,
      "id": "65ac245e-663b-4f71-89cb-95ce98d24f5e",
      "metadata": {
        "id": "65ac245e-663b-4f71-89cb-95ce98d24f5e"
      },
      "outputs": [],
      "source": [
        "def test1(func) :\n",
        "    def test2():\n",
        "\n",
        "        print(\"i am inside test2 \" )\n",
        "        func()\n",
        "        print(func())\n",
        "\n",
        "        print(\"functino executed \")\n",
        "        return func()\n",
        "    return test2"
      ]
    },
    {
      "cell_type": "code",
      "execution_count": null,
      "id": "6b975598-a278-40b0-8ba0-5016bfadefa8",
      "metadata": {
        "id": "6b975598-a278-40b0-8ba0-5016bfadefa8"
      },
      "outputs": [],
      "source": [
        "@test1\n",
        "def test3():\n",
        "    print(\"this is my test3\")"
      ]
    },
    {
      "cell_type": "code",
      "execution_count": null,
      "id": "2a018f9f-dc0d-4150-9ae9-5d4b372739b4",
      "metadata": {
        "id": "2a018f9f-dc0d-4150-9ae9-5d4b372739b4",
        "outputId": "13b99fa7-b571-472a-fe3d-c72a74115343"
      },
      "outputs": [
        {
          "name": "stdout",
          "output_type": "stream",
          "text": [
            "i am inside test2 \n",
            "this is my test3\n",
            "this is my test3\n",
            "None\n",
            "functino executed \n",
            "this is my test3\n"
          ]
        }
      ],
      "source": [
        "test3()"
      ]
    },
    {
      "cell_type": "code",
      "execution_count": null,
      "id": "105e0432-5083-42da-a480-da7cdaa18b8a",
      "metadata": {
        "id": "105e0432-5083-42da-a480-da7cdaa18b8a",
        "outputId": "128058c0-20c0-4e4a-9056-c4e4c2e85f4c"
      },
      "outputs": [
        {
          "name": "stdout",
          "output_type": "stream",
          "text": [
            "i am inside test2 \n",
            "this is my test3\n",
            "this is my test3\n",
            "None\n",
            "functino executed \n"
          ]
        },
        {
          "data": {
            "text/plain": [
              "<function __main__.test1.<locals>.test2()>"
            ]
          },
          "execution_count": 16,
          "metadata": {},
          "output_type": "execute_result"
        }
      ],
      "source": [
        "test1(test3())"
      ]
    },
    {
      "cell_type": "code",
      "execution_count": null,
      "id": "f47de6cc-576d-4b30-a38c-ae29b09f091a",
      "metadata": {
        "id": "f47de6cc-576d-4b30-a38c-ae29b09f091a"
      },
      "outputs": [],
      "source": [
        "@test1\n",
        "def test4():\n",
        "    return 5+6"
      ]
    },
    {
      "cell_type": "code",
      "execution_count": null,
      "id": "b8479dfc-232b-475c-8bda-d77c27e94dc5",
      "metadata": {
        "id": "b8479dfc-232b-475c-8bda-d77c27e94dc5",
        "outputId": "0417f978-6c66-4a2f-96db-0e189827f4be"
      },
      "outputs": [
        {
          "name": "stdout",
          "output_type": "stream",
          "text": [
            "i am inside test2 \n",
            "11\n",
            "functino executed \n"
          ]
        },
        {
          "data": {
            "text/plain": [
              "11"
            ]
          },
          "execution_count": 35,
          "metadata": {},
          "output_type": "execute_result"
        }
      ],
      "source": [
        "test4()"
      ]
    },
    {
      "cell_type": "code",
      "execution_count": null,
      "id": "d6cdf34c-9090-40da-96bf-cbc169edb529",
      "metadata": {
        "id": "d6cdf34c-9090-40da-96bf-cbc169edb529",
        "outputId": "150056fc-4354-4767-fee6-e256bb76ae97"
      },
      "outputs": [
        {
          "name": "stdout",
          "output_type": "stream",
          "text": [
            "i am inside test2 \n",
            "11\n",
            "functino executed \n"
          ]
        },
        {
          "data": {
            "text/plain": [
              "int"
            ]
          },
          "execution_count": 36,
          "metadata": {},
          "output_type": "execute_result"
        }
      ],
      "source": [
        "type(test4())"
      ]
    },
    {
      "cell_type": "code",
      "execution_count": null,
      "id": "480a2e60-7172-499e-81d3-1533b710bfb2",
      "metadata": {
        "id": "480a2e60-7172-499e-81d3-1533b710bfb2",
        "outputId": "c489ba36-d3a2-4c71-ac28-aab41877f2b6"
      },
      "outputs": [
        {
          "name": "stdout",
          "output_type": "stream",
          "text": [
            "i am inside test2 \n",
            "11\n",
            "functino executed \n"
          ]
        },
        {
          "data": {
            "text/plain": [
              "67"
            ]
          },
          "execution_count": 37,
          "metadata": {},
          "output_type": "execute_result"
        }
      ],
      "source": [
        "test4() + 56"
      ]
    },
    {
      "cell_type": "code",
      "execution_count": null,
      "id": "1ef8ae01-77d3-4a3d-b481-289804ff467a",
      "metadata": {
        "id": "1ef8ae01-77d3-4a3d-b481-289804ff467a",
        "outputId": "b85f994b-7252-4255-db66-213a82e281e9"
      },
      "outputs": [
        {
          "name": "stdout",
          "output_type": "stream",
          "text": [
            "None\n"
          ]
        }
      ],
      "source": [
        "print(a)"
      ]
    },
    {
      "cell_type": "code",
      "execution_count": null,
      "id": "915c9da5-966c-4007-8f72-aa1a39b61e49",
      "metadata": {
        "id": "915c9da5-966c-4007-8f72-aa1a39b61e49",
        "outputId": "6a08a274-1699-432e-ebca-2b31a3e39b65"
      },
      "outputs": [
        {
          "name": "stdout",
          "output_type": "stream",
          "text": [
            "i am inside test2 \n",
            "11\n",
            "functino executed \n"
          ]
        },
        {
          "ename": "TypeError",
          "evalue": "unsupported operand type(s) for +: 'NoneType' and 'int'",
          "output_type": "error",
          "traceback": [
            "\u001b[0;31m---------------------------------------------------------------------------\u001b[0m",
            "\u001b[0;31mTypeError\u001b[0m                                 Traceback (most recent call last)",
            "Cell \u001b[0;32mIn [23], line 1\u001b[0m\n\u001b[0;32m----> 1\u001b[0m \u001b[43mtest4\u001b[49m\u001b[43m(\u001b[49m\u001b[43m)\u001b[49m\u001b[43m \u001b[49m\u001b[38;5;241;43m+\u001b[39;49m\u001b[43m \u001b[49m\u001b[38;5;241;43m12\u001b[39;49m\n",
            "\u001b[0;31mTypeError\u001b[0m: unsupported operand type(s) for +: 'NoneType' and 'int'"
          ]
        }
      ],
      "source": [
        "test4() + 12"
      ]
    },
    {
      "cell_type": "code",
      "execution_count": null,
      "id": "05bdf874-8bbb-4a60-9c4a-54957cf58fc9",
      "metadata": {
        "id": "05bdf874-8bbb-4a60-9c4a-54957cf58fc9"
      },
      "outputs": [],
      "source": [
        "def test5():\n",
        "    return 4+5"
      ]
    },
    {
      "cell_type": "code",
      "execution_count": null,
      "id": "9900a1db-8195-4af0-9828-69273e4693c8",
      "metadata": {
        "id": "9900a1db-8195-4af0-9828-69273e4693c8",
        "outputId": "445906e4-35e4-44d7-9160-0094c5bf8bff"
      },
      "outputs": [
        {
          "data": {
            "text/plain": [
              "int"
            ]
          },
          "execution_count": 27,
          "metadata": {},
          "output_type": "execute_result"
        }
      ],
      "source": [
        "type(test5())"
      ]
    },
    {
      "cell_type": "code",
      "execution_count": null,
      "id": "86c8631c-9476-47db-9b44-dfe75085c8a3",
      "metadata": {
        "id": "86c8631c-9476-47db-9b44-dfe75085c8a3",
        "outputId": "7d9e0c1c-c241-45cf-d0c4-6904b8f754c8"
      },
      "outputs": [
        {
          "data": {
            "text/plain": [
              "54"
            ]
          },
          "execution_count": 28,
          "metadata": {},
          "output_type": "execute_result"
        }
      ],
      "source": [
        "test5() + 45"
      ]
    },
    {
      "cell_type": "code",
      "execution_count": null,
      "id": "73b4f551-396e-4da8-a2da-a7c4d28756d0",
      "metadata": {
        "id": "73b4f551-396e-4da8-a2da-a7c4d28756d0"
      },
      "outputs": [],
      "source": [
        "def test6(func) :\n",
        "    def test7():\n",
        "        func()\n",
        "        print(func())\n",
        "        print(\"this is my decorator functinon\")\n",
        "        return func()\n",
        "    return test7"
      ]
    },
    {
      "cell_type": "code",
      "execution_count": null,
      "id": "41fee7ee-45dd-488b-8112-be1197b06742",
      "metadata": {
        "id": "41fee7ee-45dd-488b-8112-be1197b06742"
      },
      "outputs": [],
      "source": [
        "def test8():\n",
        "    return 5+ 7"
      ]
    },
    {
      "cell_type": "code",
      "execution_count": null,
      "id": "8cdbe557-cf62-4a34-9ec4-28bd1478bf23",
      "metadata": {
        "id": "8cdbe557-cf62-4a34-9ec4-28bd1478bf23",
        "outputId": "19c154be-965a-4488-e27b-e7c5af0372a4"
      },
      "outputs": [
        {
          "data": {
            "text/plain": [
              "24"
            ]
          },
          "execution_count": 41,
          "metadata": {},
          "output_type": "execute_result"
        }
      ],
      "source": [
        "test8() + 12"
      ]
    },
    {
      "cell_type": "code",
      "execution_count": null,
      "id": "9e5ac5d1-4867-46a5-b5e2-a9cea02bbf34",
      "metadata": {
        "id": "9e5ac5d1-4867-46a5-b5e2-a9cea02bbf34"
      },
      "outputs": [],
      "source": [
        "@test6\n",
        "def test8():\n",
        "    return 5+ 7"
      ]
    },
    {
      "cell_type": "code",
      "execution_count": null,
      "id": "d52498fc-3348-40d3-8da5-c75aa1f09c48",
      "metadata": {
        "id": "d52498fc-3348-40d3-8da5-c75aa1f09c48",
        "outputId": "46907102-6a8e-4040-b54c-d1d930941894"
      },
      "outputs": [
        {
          "name": "stdout",
          "output_type": "stream",
          "text": [
            "12\n",
            "this is my decorator functinon\n"
          ]
        },
        {
          "data": {
            "text/plain": [
              "12"
            ]
          },
          "execution_count": 51,
          "metadata": {},
          "output_type": "execute_result"
        }
      ],
      "source": [
        "test8()"
      ]
    },
    {
      "cell_type": "code",
      "execution_count": null,
      "id": "ea68e84c-5fc3-462d-9d03-708012799863",
      "metadata": {
        "id": "ea68e84c-5fc3-462d-9d03-708012799863",
        "outputId": "31bd9330-9d09-448c-e9d0-c1b3babe03c3"
      },
      "outputs": [
        {
          "name": "stdout",
          "output_type": "stream",
          "text": [
            "12\n",
            "this is my decorator functinon\n"
          ]
        },
        {
          "data": {
            "text/plain": [
              "112"
            ]
          },
          "execution_count": 52,
          "metadata": {},
          "output_type": "execute_result"
        }
      ],
      "source": [
        "test8() + 100"
      ]
    },
    {
      "cell_type": "code",
      "execution_count": null,
      "id": "fe72c45e-0ea7-4fc7-acf2-5ef4e09d54f1",
      "metadata": {
        "id": "fe72c45e-0ea7-4fc7-acf2-5ef4e09d54f1",
        "outputId": "7b58ac2f-c3b0-4612-ad78-c3cdb833b616"
      },
      "outputs": [
        {
          "name": "stdout",
          "output_type": "stream",
          "text": [
            "12\n",
            "this is my decorator functinon\n"
          ]
        },
        {
          "data": {
            "text/plain": [
              "int"
            ]
          },
          "execution_count": 53,
          "metadata": {},
          "output_type": "execute_result"
        }
      ],
      "source": [
        "type(test8())"
      ]
    },
    {
      "cell_type": "code",
      "execution_count": null,
      "id": "2f4fd4c7-a3b0-4267-87f3-a1d5687f75ce",
      "metadata": {
        "id": "2f4fd4c7-a3b0-4267-87f3-a1d5687f75ce"
      },
      "outputs": [],
      "source": [
        "def test6(func) :\n",
        "    def test7(*args,**kwargs):\n",
        "        func(*args,**kwargs)\n",
        "        print(func(*args,**kwargs))\n",
        "        print(\"this is my decorator functinon\")\n",
        "        return func(*args,**kwargs)\n",
        "    return test7"
      ]
    },
    {
      "cell_type": "code",
      "execution_count": null,
      "id": "f31aba1a-e703-48fa-b6c1-2419aefd2fd0",
      "metadata": {
        "id": "f31aba1a-e703-48fa-b6c1-2419aefd2fd0"
      },
      "outputs": [],
      "source": [
        "@test6\n",
        "def test8(a,b):\n",
        "    return a+b"
      ]
    },
    {
      "cell_type": "code",
      "execution_count": null,
      "id": "3bca9165-1a41-488e-9ace-f0b18652eb5e",
      "metadata": {
        "id": "3bca9165-1a41-488e-9ace-f0b18652eb5e",
        "outputId": "0f1749f2-84a1-42ae-e23e-7ac95b143305"
      },
      "outputs": [
        {
          "name": "stdout",
          "output_type": "stream",
          "text": [
            "sudhkumar\n",
            "this is my decorator functinon\n"
          ]
        },
        {
          "data": {
            "text/plain": [
              "'sudhkumar'"
            ]
          },
          "execution_count": 96,
          "metadata": {},
          "output_type": "execute_result"
        }
      ],
      "source": [
        "test8(\"sudh\" , \"kumar\")"
      ]
    },
    {
      "cell_type": "code",
      "execution_count": null,
      "id": "3920463a-fd88-46e8-a026-d80db5d3dae8",
      "metadata": {
        "id": "3920463a-fd88-46e8-a026-d80db5d3dae8"
      },
      "outputs": [],
      "source": [
        "@test6\n",
        "def test9(**kwargs):\n",
        "    return kwargs"
      ]
    },
    {
      "cell_type": "code",
      "execution_count": null,
      "id": "763a5b45-da57-4e3c-9c62-fe9068cd378d",
      "metadata": {
        "id": "763a5b45-da57-4e3c-9c62-fe9068cd378d",
        "outputId": "3da7ffbb-2f73-4fad-cc24-bf74539cf052"
      },
      "outputs": [
        {
          "name": "stdout",
          "output_type": "stream",
          "text": [
            "{'a': 89, 'b': 67}\n",
            "this is my decorator functinon\n"
          ]
        },
        {
          "data": {
            "text/plain": [
              "{'a': 89, 'b': 67}"
            ]
          },
          "execution_count": 100,
          "metadata": {},
          "output_type": "execute_result"
        }
      ],
      "source": [
        "test9(a= 89 , b = 67)"
      ]
    },
    {
      "cell_type": "code",
      "execution_count": null,
      "id": "35461408-d4db-4cd9-9921-d5c718aab538",
      "metadata": {
        "id": "35461408-d4db-4cd9-9921-d5c718aab538"
      },
      "outputs": [],
      "source": [
        "def test10(a,b):\n",
        "    return a+b"
      ]
    },
    {
      "cell_type": "code",
      "execution_count": null,
      "id": "eccf3b99-b6a2-42fe-905b-77bcc7934505",
      "metadata": {
        "id": "eccf3b99-b6a2-42fe-905b-77bcc7934505",
        "outputId": "d4918b5f-f72a-434d-8ecb-037ba510a0b9"
      },
      "outputs": [
        {
          "data": {
            "text/plain": [
              "7"
            ]
          },
          "execution_count": 102,
          "metadata": {},
          "output_type": "execute_result"
        }
      ],
      "source": [
        "test10(3,4)"
      ]
    },
    {
      "cell_type": "code",
      "execution_count": null,
      "id": "f9a2e319-6e8f-4b60-864f-eacb1035c6f6",
      "metadata": {
        "id": "f9a2e319-6e8f-4b60-864f-eacb1035c6f6",
        "outputId": "c4bbc789-16ce-4b98-cfb5-8e8ff719bab8"
      },
      "outputs": [
        {
          "data": {
            "text/plain": [
              "'sudh ineuron'"
            ]
          },
          "execution_count": 103,
          "metadata": {},
          "output_type": "execute_result"
        }
      ],
      "source": [
        "test10(\"sudh\" , \" ineuron\")"
      ]
    },
    {
      "cell_type": "code",
      "execution_count": null,
      "id": "92b8681d-6456-4a70-a89f-7c4749f4553c",
      "metadata": {
        "id": "92b8681d-6456-4a70-a89f-7c4749f4553c"
      },
      "outputs": [],
      "source": [
        "c = lambda a , b : a + b"
      ]
    },
    {
      "cell_type": "code",
      "execution_count": null,
      "id": "47a18a55-08f3-43d4-ba7e-c9bb803f9dbd",
      "metadata": {
        "id": "47a18a55-08f3-43d4-ba7e-c9bb803f9dbd",
        "outputId": "b14c09bd-d5ed-45d8-8e72-1777c7e167a1"
      },
      "outputs": [
        {
          "data": {
            "text/plain": [
              "<function __main__.test10(a, b)>"
            ]
          },
          "execution_count": 105,
          "metadata": {},
          "output_type": "execute_result"
        }
      ],
      "source": [
        "test10"
      ]
    },
    {
      "cell_type": "code",
      "execution_count": null,
      "id": "251ec7d8-5bc3-476b-9790-9e9a8fba48e6",
      "metadata": {
        "id": "251ec7d8-5bc3-476b-9790-9e9a8fba48e6",
        "outputId": "a37ed228-6165-4efa-af9d-49bd08cdfd8c"
      },
      "outputs": [
        {
          "data": {
            "text/plain": [
              "'sudh ineuron'"
            ]
          },
          "execution_count": 107,
          "metadata": {},
          "output_type": "execute_result"
        }
      ],
      "source": [
        "c(\"sudh\" , \" ineuron\")"
      ]
    },
    {
      "cell_type": "code",
      "execution_count": null,
      "id": "d79d3743-1da0-4588-9163-e072b2d40690",
      "metadata": {
        "id": "d79d3743-1da0-4588-9163-e072b2d40690"
      },
      "outputs": [],
      "source": [
        "d = lambda a , b ,c ,d : a*b+c/d"
      ]
    },
    {
      "cell_type": "code",
      "execution_count": null,
      "id": "a3683cdc-57f3-4929-9340-2291f66b150e",
      "metadata": {
        "id": "a3683cdc-57f3-4929-9340-2291f66b150e",
        "outputId": "cdbf2f8b-2207-4e81-9b18-b26a47271612"
      },
      "outputs": [
        {
          "data": {
            "text/plain": [
              "12.833333333333334"
            ]
          },
          "execution_count": 109,
          "metadata": {},
          "output_type": "execute_result"
        }
      ],
      "source": [
        "d(3,4,5,6)"
      ]
    },
    {
      "cell_type": "code",
      "execution_count": null,
      "id": "7c3326c5-500c-43ab-b01e-fd49bc31348b",
      "metadata": {
        "id": "7c3326c5-500c-43ab-b01e-fd49bc31348b"
      },
      "outputs": [],
      "source": [
        "e = lambda * args : args"
      ]
    },
    {
      "cell_type": "code",
      "execution_count": null,
      "id": "0b2d9dea-0766-400a-9357-10df57e94dac",
      "metadata": {
        "id": "0b2d9dea-0766-400a-9357-10df57e94dac",
        "outputId": "3a2b80cb-8bda-45a8-f1a4-164ecf9e62ae"
      },
      "outputs": [
        {
          "data": {
            "text/plain": [
              "()"
            ]
          },
          "execution_count": 111,
          "metadata": {},
          "output_type": "execute_result"
        }
      ],
      "source": [
        "e()"
      ]
    },
    {
      "cell_type": "code",
      "execution_count": null,
      "id": "d308b6b0-3b76-4216-bd7a-7f58aa5fff0a",
      "metadata": {
        "id": "d308b6b0-3b76-4216-bd7a-7f58aa5fff0a",
        "outputId": "a38f29f8-34cb-4665-f96b-40a783631a56"
      },
      "outputs": [
        {
          "data": {
            "text/plain": [
              "(3, 4, 5)"
            ]
          },
          "execution_count": 112,
          "metadata": {},
          "output_type": "execute_result"
        }
      ],
      "source": [
        "e(3,4,5)"
      ]
    },
    {
      "cell_type": "code",
      "execution_count": null,
      "id": "32d1dd17-4d5f-4906-80da-08a5012ba979",
      "metadata": {
        "id": "32d1dd17-4d5f-4906-80da-08a5012ba979"
      },
      "outputs": [],
      "source": [
        "#map()"
      ]
    },
    {
      "cell_type": "code",
      "execution_count": null,
      "id": "b7302810-82ff-42cf-b571-0c8012d53a37",
      "metadata": {
        "id": "b7302810-82ff-42cf-b571-0c8012d53a37"
      },
      "outputs": [],
      "source": [
        "l = [1,2,3,4,5,6,7]\n",
        "l1  = []\n",
        "for i in l :\n",
        "    l1.append(i+10)\n",
        ""
      ]
    },
    {
      "cell_type": "code",
      "execution_count": null,
      "id": "c0e10bfc-963d-47ee-9a4f-870d3bf18962",
      "metadata": {
        "id": "c0e10bfc-963d-47ee-9a4f-870d3bf18962",
        "outputId": "e17ca9c0-133b-446e-f3e6-e9364404739b"
      },
      "outputs": [
        {
          "data": {
            "text/plain": [
              "[11, 12, 13, 14, 15, 16, 17]"
            ]
          },
          "execution_count": 117,
          "metadata": {},
          "output_type": "execute_result"
        }
      ],
      "source": [
        "l1"
      ]
    },
    {
      "cell_type": "code",
      "execution_count": null,
      "id": "2b1935fe-a9cf-4932-a390-8a2f74c79544",
      "metadata": {
        "id": "2b1935fe-a9cf-4932-a390-8a2f74c79544"
      },
      "outputs": [],
      "source": [
        "def test14(a):\n",
        "    return a + 10"
      ]
    },
    {
      "cell_type": "code",
      "execution_count": null,
      "id": "3b02b3b6-db49-4e53-a0ae-cfeb84c0ddf3",
      "metadata": {
        "id": "3b02b3b6-db49-4e53-a0ae-cfeb84c0ddf3",
        "outputId": "7d68bf38-c9a9-4a8c-ccf1-0b0b82c14355"
      },
      "outputs": [
        {
          "data": {
            "text/plain": [
              "[11, 12, 13, 14, 15, 16, 17]"
            ]
          },
          "execution_count": 120,
          "metadata": {},
          "output_type": "execute_result"
        }
      ],
      "source": [
        "list(map( test14,l ))"
      ]
    },
    {
      "cell_type": "code",
      "execution_count": null,
      "id": "763a608c-7126-473f-8806-3afae31e264f",
      "metadata": {
        "id": "763a608c-7126-473f-8806-3afae31e264f",
        "outputId": "7a93eefe-1165-4557-dab0-9ce34f95b862"
      },
      "outputs": [
        {
          "data": {
            "text/plain": [
              "[11, 12, 13, 14, 15, 16, 17]"
            ]
          },
          "execution_count": 121,
          "metadata": {},
          "output_type": "execute_result"
        }
      ],
      "source": [
        "list(map(lambda a : a +10  , l))"
      ]
    },
    {
      "cell_type": "code",
      "execution_count": null,
      "id": "1fe3efac-8701-428c-ae98-28cb5a076d78",
      "metadata": {
        "id": "1fe3efac-8701-428c-ae98-28cb5a076d78"
      },
      "outputs": [],
      "source": [
        "n = lambda a : a +10"
      ]
    },
    {
      "cell_type": "code",
      "execution_count": null,
      "id": "9963a0dd-1b0a-4471-8c04-f17d8a4e9dd0",
      "metadata": {
        "id": "9963a0dd-1b0a-4471-8c04-f17d8a4e9dd0",
        "outputId": "78f5e418-1175-4b98-ec6b-8d01a0e9327b"
      },
      "outputs": [
        {
          "data": {
            "text/plain": [
              "[11, 12, 13, 14, 15, 16, 17]"
            ]
          },
          "execution_count": 123,
          "metadata": {},
          "output_type": "execute_result"
        }
      ],
      "source": [
        "list(map(n, l ))"
      ]
    },
    {
      "cell_type": "code",
      "execution_count": null,
      "id": "b08ae51d-949c-4897-92ea-9a550c712f42",
      "metadata": {
        "id": "b08ae51d-949c-4897-92ea-9a550c712f42"
      },
      "outputs": [],
      "source": [
        "l = [\"sudh\" , \"kumar\" , \"ineuron\"]"
      ]
    },
    {
      "cell_type": "code",
      "execution_count": null,
      "id": "e9dff16c-41a5-4838-960f-c24ec4ac55ba",
      "metadata": {
        "id": "e9dff16c-41a5-4838-960f-c24ec4ac55ba"
      },
      "outputs": [],
      "source": [
        "l1 = []\n",
        "for i in l :\n",
        "    l1.append(i.upper())"
      ]
    },
    {
      "cell_type": "code",
      "execution_count": null,
      "id": "0f292747-2dd0-41bb-b807-c71b3a7aee16",
      "metadata": {
        "id": "0f292747-2dd0-41bb-b807-c71b3a7aee16",
        "outputId": "7c0a3e2f-5742-4823-f838-f9a2c665a47e"
      },
      "outputs": [
        {
          "data": {
            "text/plain": [
              "['SUDH', 'KUMAR', 'INEURON']"
            ]
          },
          "execution_count": 127,
          "metadata": {},
          "output_type": "execute_result"
        }
      ],
      "source": [
        "l1"
      ]
    },
    {
      "cell_type": "code",
      "execution_count": null,
      "id": "44358dea-f419-4509-a27b-4201ddd97dc9",
      "metadata": {
        "id": "44358dea-f419-4509-a27b-4201ddd97dc9",
        "outputId": "4e8697aa-5fed-4922-f058-4d7f353e4e1d"
      },
      "outputs": [
        {
          "data": {
            "text/plain": [
              "['SUDH', 'KUMAR', 'INEURON']"
            ]
          },
          "execution_count": 128,
          "metadata": {},
          "output_type": "execute_result"
        }
      ],
      "source": [
        "list(map(lambda a : a.upper(), l))"
      ]
    },
    {
      "cell_type": "code",
      "execution_count": null,
      "id": "6beaf9a4-5d2b-4d27-a34d-f33ea54a79de",
      "metadata": {
        "id": "6beaf9a4-5d2b-4d27-a34d-f33ea54a79de",
        "outputId": "2e5794f5-812a-409c-c6fa-91e6e062b831"
      },
      "outputs": [
        {
          "data": {
            "text/plain": [
              "['SUDH', 'KUMAR', 'INEURON']"
            ]
          },
          "execution_count": 130,
          "metadata": {},
          "output_type": "execute_result"
        }
      ],
      "source": [
        "list(map(str.upper , l))"
      ]
    },
    {
      "cell_type": "code",
      "execution_count": null,
      "id": "dcd13f6c-2a7c-48cc-9913-9bf6e2497143",
      "metadata": {
        "id": "dcd13f6c-2a7c-48cc-9913-9bf6e2497143"
      },
      "outputs": [],
      "source": [
        "def upper_string(a) :\n",
        "    return a.upper()"
      ]
    },
    {
      "cell_type": "code",
      "execution_count": null,
      "id": "b94a9f12-5325-4531-9381-97b57c057bea",
      "metadata": {
        "id": "b94a9f12-5325-4531-9381-97b57c057bea",
        "outputId": "556ae491-53d9-4770-8008-942f8be29c82"
      },
      "outputs": [
        {
          "data": {
            "text/plain": [
              "['SUDH', 'KUMAR', 'INEURON']"
            ]
          },
          "execution_count": 132,
          "metadata": {},
          "output_type": "execute_result"
        }
      ],
      "source": [
        "list(map(upper_string, l))"
      ]
    },
    {
      "cell_type": "code",
      "execution_count": null,
      "id": "6b3476da-dd13-4290-9567-820febaa195f",
      "metadata": {
        "id": "6b3476da-dd13-4290-9567-820febaa195f",
        "outputId": "9fb5a93d-26d0-4f0d-af22-d7ec6bea071b"
      },
      "outputs": [
        {
          "data": {
            "text/plain": [
              "['sudh', 'kumar', 'ineuron']"
            ]
          },
          "execution_count": 133,
          "metadata": {},
          "output_type": "execute_result"
        }
      ],
      "source": [
        "l"
      ]
    },
    {
      "cell_type": "code",
      "execution_count": null,
      "id": "398068a8-59cc-4622-925d-64c155d5cbf7",
      "metadata": {
        "id": "398068a8-59cc-4622-925d-64c155d5cbf7",
        "outputId": "d9a16e00-285d-4e5c-d3b2-568e6dfe9581"
      },
      "outputs": [
        {
          "data": {
            "text/plain": [
              "[4, 5, 7]"
            ]
          },
          "execution_count": 135,
          "metadata": {},
          "output_type": "execute_result"
        }
      ],
      "source": [
        "list(map(len,l))"
      ]
    },
    {
      "cell_type": "code",
      "execution_count": null,
      "id": "ef890f3c-3d7d-45d4-a39e-ff6688345017",
      "metadata": {
        "id": "ef890f3c-3d7d-45d4-a39e-ff6688345017",
        "outputId": "ec80a98a-d3b5-4d50-c049-e11c1d9e70c9"
      },
      "outputs": [
        {
          "data": {
            "text/plain": [
              "[4, 5, 7]"
            ]
          },
          "execution_count": 136,
          "metadata": {},
          "output_type": "execute_result"
        }
      ],
      "source": [
        "list(map(lambda a : len(a) , l))"
      ]
    },
    {
      "cell_type": "code",
      "execution_count": null,
      "id": "eba00bfa-5730-49cd-8816-b10f50422d15",
      "metadata": {
        "id": "eba00bfa-5730-49cd-8816-b10f50422d15"
      },
      "outputs": [],
      "source": [
        "def test23(a):\n",
        "    return len(a)"
      ]
    },
    {
      "cell_type": "code",
      "execution_count": null,
      "id": "ec20faf2-375a-428a-b1bc-f23e76d941e7",
      "metadata": {
        "id": "ec20faf2-375a-428a-b1bc-f23e76d941e7",
        "outputId": "ba9bece5-9251-4626-9b1f-2c2fc5b78372"
      },
      "outputs": [
        {
          "data": {
            "text/plain": [
              "[4, 5, 7]"
            ]
          },
          "execution_count": 138,
          "metadata": {},
          "output_type": "execute_result"
        }
      ],
      "source": [
        "list(map(test23, l))"
      ]
    },
    {
      "cell_type": "code",
      "execution_count": null,
      "id": "02465769-ad59-4c1e-958a-7197192d9fd2",
      "metadata": {
        "id": "02465769-ad59-4c1e-958a-7197192d9fd2"
      },
      "outputs": [],
      "source": [
        "l = [1,2,3,4,5,6,7,8]"
      ]
    },
    {
      "cell_type": "code",
      "execution_count": null,
      "id": "667d7399-a05d-4f84-ac33-eb51c01c7ae5",
      "metadata": {
        "id": "667d7399-a05d-4f84-ac33-eb51c01c7ae5"
      },
      "outputs": [],
      "source": [
        "l1 = []\n",
        "for i in l :\n",
        "    if i % 2 == 0 :\n",
        "        l1.append(i)"
      ]
    },
    {
      "cell_type": "code",
      "execution_count": null,
      "id": "32be9ef3-3d15-4152-bc81-b12f88d421e9",
      "metadata": {
        "id": "32be9ef3-3d15-4152-bc81-b12f88d421e9",
        "outputId": "b474f7e1-ef9f-49e6-e45d-a31ac4e32a25"
      },
      "outputs": [
        {
          "data": {
            "text/plain": [
              "[2, 4, 6, 8]"
            ]
          },
          "execution_count": 141,
          "metadata": {},
          "output_type": "execute_result"
        }
      ],
      "source": [
        "l1"
      ]
    },
    {
      "cell_type": "code",
      "execution_count": null,
      "id": "18e74731-8c97-48fd-800e-f657c79563ad",
      "metadata": {
        "id": "18e74731-8c97-48fd-800e-f657c79563ad",
        "outputId": "2137bd76-fe29-4ded-a4b2-c374f619add7"
      },
      "outputs": [
        {
          "data": {
            "text/plain": [
              "[2, 4, 6, 8]"
            ]
          },
          "execution_count": 142,
          "metadata": {},
          "output_type": "execute_result"
        }
      ],
      "source": [
        "[i for i in l if i%2 == 0 ]"
      ]
    },
    {
      "cell_type": "code",
      "execution_count": null,
      "id": "6c803d49-22a7-42a5-a18e-eccb941d437c",
      "metadata": {
        "id": "6c803d49-22a7-42a5-a18e-eccb941d437c"
      },
      "outputs": [],
      "source": [
        "def test24(a):\n",
        "    l = []\n",
        "    if type(a) == list :\n",
        "        for i in a :\n",
        "            if i%2 == 0 :\n",
        "                l.append(i)\n",
        "    return l"
      ]
    },
    {
      "cell_type": "code",
      "execution_count": null,
      "id": "93a5bed8-541e-4ca3-be8a-bfabd2f4153d",
      "metadata": {
        "id": "93a5bed8-541e-4ca3-be8a-bfabd2f4153d",
        "outputId": "ff13c6dc-7d1e-467a-c608-e6b436b9f145"
      },
      "outputs": [
        {
          "data": {
            "text/plain": [
              "[2, 4, 6, 8]"
            ]
          },
          "execution_count": 144,
          "metadata": {},
          "output_type": "execute_result"
        }
      ],
      "source": [
        "test24(l)"
      ]
    },
    {
      "cell_type": "code",
      "execution_count": null,
      "id": "879b5362-4e96-4bfe-8a45-bd71f2453178",
      "metadata": {
        "id": "879b5362-4e96-4bfe-8a45-bd71f2453178"
      },
      "outputs": [],
      "source": [
        "a = lambda a :a if  a %2 == 0 else None"
      ]
    },
    {
      "cell_type": "code",
      "execution_count": null,
      "id": "d0cad1d6-eb1b-4437-9acc-7fd4165ed06b",
      "metadata": {
        "id": "d0cad1d6-eb1b-4437-9acc-7fd4165ed06b",
        "outputId": "dc21bcfd-9385-48da-e515-9486441e6cc5"
      },
      "outputs": [
        {
          "data": {
            "text/plain": [
              "[None, 2, None, 4, None, 6, None, 8]"
            ]
          },
          "execution_count": 149,
          "metadata": {},
          "output_type": "execute_result"
        }
      ],
      "source": [
        "list(map(a , l))"
      ]
    },
    {
      "cell_type": "code",
      "execution_count": null,
      "id": "dde84db9-f89a-43cc-af90-5288bf7dedb3",
      "metadata": {
        "id": "dde84db9-f89a-43cc-af90-5288bf7dedb3",
        "outputId": "8679da7f-cde0-4c33-f3db-d78ae8783eee"
      },
      "outputs": [
        {
          "data": {
            "text/plain": [
              "[1, 2, 3, 4, 5, 6, 7, 8]"
            ]
          },
          "execution_count": 150,
          "metadata": {},
          "output_type": "execute_result"
        }
      ],
      "source": [
        "l"
      ]
    },
    {
      "cell_type": "code",
      "execution_count": null,
      "id": "6f682889-470b-4c0c-ba98-111229c91335",
      "metadata": {
        "id": "6f682889-470b-4c0c-ba98-111229c91335",
        "outputId": "353c6e1c-f79f-484b-d10f-83b2bbe21434"
      },
      "outputs": [
        {
          "data": {
            "text/plain": [
              "[2, 4, 6, 8]"
            ]
          },
          "execution_count": 151,
          "metadata": {},
          "output_type": "execute_result"
        }
      ],
      "source": [
        "list(filter(a , l))"
      ]
    },
    {
      "cell_type": "code",
      "execution_count": null,
      "id": "0b20710b-7eed-412f-b721-d4eba8e62dca",
      "metadata": {
        "id": "0b20710b-7eed-412f-b721-d4eba8e62dca"
      },
      "outputs": [],
      "source": [
        "def test25(a):\n",
        "    if a%2 ==0 :\n",
        "        return False\n",
        "    else :\n",
        "        return True"
      ]
    },
    {
      "cell_type": "code",
      "execution_count": null,
      "id": "a38e95ae-90c2-44ca-9dc3-ad866ca8f97c",
      "metadata": {
        "id": "a38e95ae-90c2-44ca-9dc3-ad866ca8f97c",
        "outputId": "f9aa2cd8-827d-45eb-84ad-e7de59ecac23"
      },
      "outputs": [
        {
          "data": {
            "text/plain": [
              "False"
            ]
          },
          "execution_count": 163,
          "metadata": {},
          "output_type": "execute_result"
        }
      ],
      "source": [
        "test25(32)"
      ]
    },
    {
      "cell_type": "code",
      "execution_count": null,
      "id": "357eef8a-6beb-4130-a641-e08135e81ed8",
      "metadata": {
        "id": "357eef8a-6beb-4130-a641-e08135e81ed8",
        "outputId": "8beb25ff-16da-4648-93ea-50a79808d523"
      },
      "outputs": [
        {
          "data": {
            "text/plain": [
              "True"
            ]
          },
          "execution_count": 164,
          "metadata": {},
          "output_type": "execute_result"
        }
      ],
      "source": [
        "test25(35)"
      ]
    },
    {
      "cell_type": "code",
      "execution_count": null,
      "id": "b1784670-4fbd-44cb-827d-1ec52a6f67a5",
      "metadata": {
        "id": "b1784670-4fbd-44cb-827d-1ec52a6f67a5",
        "outputId": "8bf3e9f9-5256-40a5-f050-003a2b3902a9"
      },
      "outputs": [
        {
          "data": {
            "text/plain": [
              "[1, 3, 5, 7]"
            ]
          },
          "execution_count": 165,
          "metadata": {},
          "output_type": "execute_result"
        }
      ],
      "source": [
        "list(filter(test25,l))"
      ]
    },
    {
      "cell_type": "code",
      "execution_count": null,
      "id": "c9a13efc-cbfb-4fd3-b94d-1bfb531e1dcf",
      "metadata": {
        "id": "c9a13efc-cbfb-4fd3-b94d-1bfb531e1dcf",
        "outputId": "e5fbc81f-0353-43df-8b50-06299549b692"
      },
      "outputs": [
        {
          "data": {
            "text/plain": [
              "[1, 2, 3, 4, 5, 6, 7, 8]"
            ]
          },
          "execution_count": 159,
          "metadata": {},
          "output_type": "execute_result"
        }
      ],
      "source": [
        "l"
      ]
    },
    {
      "cell_type": "code",
      "execution_count": null,
      "id": "b90a93bd-7b82-48cf-a846-9d429e607bad",
      "metadata": {
        "id": "b90a93bd-7b82-48cf-a846-9d429e607bad",
        "outputId": "39a95ee7-ff74-47a8-e345-c7db3c749947"
      },
      "outputs": [
        {
          "data": {
            "text/plain": [
              "[1, 2, 3, 4, 5, 6, 7, 8]"
            ]
          },
          "execution_count": 160,
          "metadata": {},
          "output_type": "execute_result"
        }
      ],
      "source": [
        "l"
      ]
    },
    {
      "cell_type": "code",
      "execution_count": null,
      "id": "1e838945-a87d-41e0-87e0-9bcdaf3f511b",
      "metadata": {
        "id": "1e838945-a87d-41e0-87e0-9bcdaf3f511b",
        "outputId": "90482b59-8bec-4bdf-8dba-bee082e3da95"
      },
      "outputs": [
        {
          "data": {
            "text/plain": [
              "36"
            ]
          },
          "execution_count": 166,
          "metadata": {},
          "output_type": "execute_result"
        }
      ],
      "source": [
        "sum(l)"
      ]
    },
    {
      "cell_type": "code",
      "execution_count": null,
      "id": "20f2a193-1d41-4472-a4fd-333db1ae7153",
      "metadata": {
        "id": "20f2a193-1d41-4472-a4fd-333db1ae7153",
        "outputId": "55bb72f2-ba5c-420b-9f14-4ad802542861"
      },
      "outputs": [
        {
          "data": {
            "text/plain": [
              "[1, 2, 3, 4, 5, 6, 7, 8]"
            ]
          },
          "execution_count": 167,
          "metadata": {},
          "output_type": "execute_result"
        }
      ],
      "source": [
        "l"
      ]
    },
    {
      "cell_type": "code",
      "execution_count": null,
      "id": "d0747cea-b626-43ef-8878-1c056d8cca2e",
      "metadata": {
        "id": "d0747cea-b626-43ef-8878-1c056d8cca2e"
      },
      "outputs": [],
      "source": [
        "from functools import reduce"
      ]
    },
    {
      "cell_type": "code",
      "execution_count": null,
      "id": "3a1f4a1b-a415-44e6-b6e0-49c558cae386",
      "metadata": {
        "id": "3a1f4a1b-a415-44e6-b6e0-49c558cae386",
        "outputId": "8bdd7f6a-c55e-4b68-8f98-ab1a3978c8e4"
      },
      "outputs": [
        {
          "ename": "TypeError",
          "evalue": "reduce() arg 2 must support iteration",
          "output_type": "error",
          "traceback": [
            "\u001b[0;31m---------------------------------------------------------------------------\u001b[0m",
            "\u001b[0;31mTypeError\u001b[0m                                 Traceback (most recent call last)",
            "Cell \u001b[0;32mIn [182], line 1\u001b[0m\n\u001b[0;32m----> 1\u001b[0m \u001b[43mreduce\u001b[49m\u001b[43m(\u001b[49m\u001b[38;5;28;43;01mlambda\u001b[39;49;00m\u001b[43m \u001b[49m\u001b[43ma\u001b[49m\u001b[43m,\u001b[49m\u001b[43mb\u001b[49m\u001b[43m \u001b[49m\u001b[43m:\u001b[49m\u001b[43m \u001b[49m\u001b[43ma\u001b[49m\u001b[43m \u001b[49m\u001b[38;5;241;43m*\u001b[39;49m\u001b[43mb\u001b[49m\u001b[43m \u001b[49m\u001b[43m,\u001b[49m\u001b[38;5;241;43m5\u001b[39;49m\u001b[43m)\u001b[49m\n",
            "\u001b[0;31mTypeError\u001b[0m: reduce() arg 2 must support iteration"
          ]
        }
      ],
      "source": [
        "reduce(lambda a,b : a *b ,5)"
      ]
    },
    {
      "cell_type": "code",
      "execution_count": null,
      "id": "ce7d23ca-71cf-4ef9-bbd7-c84152d20003",
      "metadata": {
        "id": "ce7d23ca-71cf-4ef9-bbd7-c84152d20003",
        "outputId": "f2c334de-28e0-4e5f-d204-1db2db7d5e37"
      },
      "outputs": [
        {
          "data": {
            "text/plain": [
              "[1, 2, 3, 4, 5, 6, 7, 8]"
            ]
          },
          "execution_count": 211,
          "metadata": {},
          "output_type": "execute_result"
        }
      ],
      "source": [
        "l"
      ]
    },
    {
      "cell_type": "code",
      "execution_count": null,
      "id": "3ba63fcd-3989-4d2f-814f-dcae8e20a88d",
      "metadata": {
        "id": "3ba63fcd-3989-4d2f-814f-dcae8e20a88d",
        "outputId": "0181be50-4cbf-40d3-ea34-59467aa563d9"
      },
      "outputs": [
        {
          "data": {
            "text/plain": [
              "3"
            ]
          },
          "execution_count": 172,
          "metadata": {},
          "output_type": "execute_result"
        }
      ],
      "source": [
        "l1 = [3]\n",
        "reduce(lambda a,b,c : a *b*c , l1)"
      ]
    },
    {
      "cell_type": "code",
      "execution_count": null,
      "id": "e8d09846-e422-44c1-8d29-6bcf26ec4bbf",
      "metadata": {
        "id": "e8d09846-e422-44c1-8d29-6bcf26ec4bbf"
      },
      "outputs": [],
      "source": [
        "def test26(a : int ,b : \"func\", c:int  = 234) -> int:\n",
        "    '''this is my doc string to give a hint to next programer '''\n",
        "    return a +b +str(c)"
      ]
    },
    {
      "cell_type": "code",
      "execution_count": null,
      "id": "fcf3c284-b868-4263-a033-465348c07b6b",
      "metadata": {
        "id": "fcf3c284-b868-4263-a033-465348c07b6b",
        "outputId": "b091f24c-23d3-4bb5-a444-91c056e8ca5c"
      },
      "outputs": [
        {
          "data": {
            "text/plain": [
              "'sudhkumar345'"
            ]
          },
          "execution_count": 193,
          "metadata": {},
          "output_type": "execute_result"
        }
      ],
      "source": [
        "test26(\"sudh\"  , \"kumar\" , 345)"
      ]
    },
    {
      "cell_type": "code",
      "execution_count": null,
      "id": "9ab1bbfb-7be3-4b2d-bfc2-038a7bdd5dd5",
      "metadata": {
        "id": "9ab1bbfb-7be3-4b2d-bfc2-038a7bdd5dd5"
      },
      "outputs": [],
      "source": [
        "def test27(a :\"fsfs\" ,b : \"fssfdsf\") -> \"this will give me outcome \" :\n",
        "    return a+b"
      ]
    },
    {
      "cell_type": "code",
      "execution_count": null,
      "id": "7907f82d-e70c-4c6a-b773-695f191a7099",
      "metadata": {
        "id": "7907f82d-e70c-4c6a-b773-695f191a7099",
        "outputId": "a6fd4d54-9f1d-455d-eb53-67cc47a6be17"
      },
      "outputs": [
        {
          "ename": "TypeError",
          "evalue": "can only concatenate str (not \"int\") to str",
          "output_type": "error",
          "traceback": [
            "\u001b[0;31m---------------------------------------------------------------------------\u001b[0m",
            "\u001b[0;31mTypeError\u001b[0m                                 Traceback (most recent call last)",
            "Cell \u001b[0;32mIn [195], line 1\u001b[0m\n\u001b[0;32m----> 1\u001b[0m \u001b[43mtest27\u001b[49m\u001b[43m(\u001b[49m\u001b[38;5;124;43m\"\u001b[39;49m\u001b[38;5;124;43msudh\u001b[39;49m\u001b[38;5;124;43m\"\u001b[39;49m\u001b[43m \u001b[49m\u001b[43m,\u001b[49m\u001b[43m \u001b[49m\u001b[38;5;241;43m4\u001b[39;49m\u001b[43m)\u001b[49m\n",
            "Cell \u001b[0;32mIn [194], line 2\u001b[0m, in \u001b[0;36mtest27\u001b[0;34m(a, b)\u001b[0m\n\u001b[1;32m      1\u001b[0m \u001b[38;5;28;01mdef\u001b[39;00m \u001b[38;5;21mtest27\u001b[39m(a,b):\n\u001b[0;32m----> 2\u001b[0m     \u001b[38;5;28;01mreturn\u001b[39;00m \u001b[43ma\u001b[49m\u001b[38;5;241;43m+\u001b[39;49m\u001b[43mb\u001b[49m\n",
            "\u001b[0;31mTypeError\u001b[0m: can only concatenate str (not \"int\") to str"
          ]
        }
      ],
      "source": [
        "test27(\"sudh\" , 4)"
      ]
    },
    {
      "cell_type": "code",
      "execution_count": null,
      "id": "6e70ea8a-08be-4c67-931b-6042dcfdfb6c",
      "metadata": {
        "id": "6e70ea8a-08be-4c67-931b-6042dcfdfb6c"
      },
      "outputs": [],
      "source": [
        "def test1(func):\n",
        "    def test2():\n",
        "        print(\"i am inside test1\")\n",
        "        func()\n",
        "        print(func())\n",
        "        print(\"function executed\")\n",
        "        return func()\n",
        "    return test2()"
      ]
    },
    {
      "cell_type": "code",
      "execution_count": null,
      "id": "276241db-876b-45d4-8249-f0e8c718a858",
      "metadata": {
        "id": "276241db-876b-45d4-8249-f0e8c718a858",
        "outputId": "602f56fa-97ed-493f-c1c4-62ef3c433540"
      },
      "outputs": [
        {
          "name": "stdout",
          "output_type": "stream",
          "text": [
            "i am inside test1\n",
            "11\n",
            "function executed\n"
          ]
        }
      ],
      "source": [
        "\n",
        "@test1\n",
        "def test3():\n",
        "    return 5 + 6"
      ]
    },
    {
      "cell_type": "code",
      "execution_count": null,
      "id": "63338b6c-1fbe-4692-b3b8-b754569fd186",
      "metadata": {
        "id": "63338b6c-1fbe-4692-b3b8-b754569fd186",
        "outputId": "b9954c5e-c097-4752-8393-9d9581d8c273"
      },
      "outputs": [
        {
          "ename": "NameError",
          "evalue": "name 'li' is not defined",
          "output_type": "error",
          "traceback": [
            "\u001b[0;31m---------------------------------------------------------------------------\u001b[0m",
            "\u001b[0;31mNameError\u001b[0m                                 Traceback (most recent call last)",
            "Cell \u001b[0;32mIn [212], line 2\u001b[0m\n\u001b[1;32m      1\u001b[0m \u001b[38;5;66;03m#2. write a function which will be able to index of list elements without using an index function.def test1(li):\u001b[39;00m\n\u001b[0;32m----> 2\u001b[0m \u001b[38;5;28;01mfor\u001b[39;00m i \u001b[38;5;129;01min\u001b[39;00m \u001b[38;5;28mrange\u001b[39m(\u001b[38;5;241m0\u001b[39m, test1(\u001b[43mli\u001b[49m)):\n\u001b[1;32m      3\u001b[0m         \u001b[38;5;28mprint\u001b[39m(li[i], \u001b[38;5;124m\"\u001b[39m\u001b[38;5;124m:\u001b[39m\u001b[38;5;124m\"\u001b[39m, i)\n",
            "\u001b[0;31mNameError\u001b[0m: name 'li' is not defined"
          ]
        }
      ],
      "source": [
        "#2. write a function which will be able to index of list elements without using an index function.def test1(li):\n",
        "for i in range(0, test1(li)):\n",
        "        print(li[i], \":\", i)\n"
      ]
    },
    {
      "cell_type": "code",
      "execution_count": null,
      "id": "13c419c0-9858-4380-bf4f-6911e0baa3f4",
      "metadata": {
        "id": "13c419c0-9858-4380-bf4f-6911e0baa3f4"
      },
      "outputs": [],
      "source": [
        "def test1(li):\n",
        "    for i in range(0, len(li)):\n",
        "        print(li[i], \":\", i)"
      ]
    },
    {
      "cell_type": "code",
      "execution_count": null,
      "id": "240e6538-be2c-4fa3-b713-fb9de83715be",
      "metadata": {
        "id": "240e6538-be2c-4fa3-b713-fb9de83715be",
        "outputId": "200a7059-ec83-496f-c883-f1207da60148"
      },
      "outputs": [
        {
          "data": {
            "text/plain": [
              "[1, 2, 3, 4, 5, 6, 7, 8]"
            ]
          },
          "execution_count": 220,
          "metadata": {},
          "output_type": "execute_result"
        }
      ],
      "source": [
        "l"
      ]
    },
    {
      "cell_type": "code",
      "execution_count": null,
      "id": "4567040b-c55a-42c0-a789-2a9065e3292a",
      "metadata": {
        "id": "4567040b-c55a-42c0-a789-2a9065e3292a",
        "outputId": "24ce86c0-0348-423f-ac20-ebcbf59ac1d4"
      },
      "outputs": [
        {
          "name": "stdout",
          "output_type": "stream",
          "text": [
            "1 : 0\n",
            "2 : 1\n",
            "3 : 2\n",
            "4 : 3\n",
            "5 : 4\n",
            "6 : 5\n",
            "7 : 6\n",
            "8 : 7\n"
          ]
        }
      ],
      "source": [
        "test1(l)"
      ]
    },
    {
      "cell_type": "code",
      "execution_count": null,
      "id": "fd387955-41a4-472c-95df-a9ecf1cb9c1b",
      "metadata": {
        "id": "fd387955-41a4-472c-95df-a9ecf1cb9c1b"
      },
      "outputs": [],
      "source": [
        "query@ineuron.ai\n",
        "sudhanshu@ineuron.ai"
      ]
    },
    {
      "cell_type": "code",
      "execution_count": null,
      "id": "4a4949e5-6a19-4190-b90a-ea3b12da9163",
      "metadata": {
        "id": "4a4949e5-6a19-4190-b90a-ea3b12da9163",
        "outputId": "ce173811-7934-4933-848d-623cbfc420fc"
      },
      "outputs": [
        {
          "name": "stdout",
          "output_type": "stream",
          "text": [
            "2\n",
            "['x', 4]\n",
            "{'b': 0, 'a': 'y'}\n"
          ]
        },
        {
          "data": {
            "text/plain": [
              "(1, ['x', 4], {'b': 0, 'a': 'y'})"
            ]
          },
          "execution_count": 224,
          "metadata": {},
          "output_type": "execute_result"
        }
      ],
      "source": [
        "def func(a, b, c):\n",
        "    a = 2\n",
        "    print(a)\n",
        "    d =\n",
        "    b[0] = 'x'\n",
        "    print(b)\n",
        "    c['a'] = 'y'\n",
        "    print(c)\n",
        "\n",
        "l=1\n",
        "m=[1,4]\n",
        "n={'b':0}\n",
        "func(l, m, n)\n",
        "l, m, n\n"
      ]
    },
    {
      "cell_type": "code",
      "execution_count": null,
      "id": "827d5620-2552-468a-b905-192efa5e6f1c",
      "metadata": {
        "id": "827d5620-2552-468a-b905-192efa5e6f1c",
        "outputId": "93db31c0-09cb-4681-d544-61a2a641aa01"
      },
      "outputs": [
        {
          "data": {
            "text/plain": [
              "['x', 4]"
            ]
          },
          "execution_count": 225,
          "metadata": {},
          "output_type": "execute_result"
        }
      ],
      "source": [
        "m"
      ]
    },
    {
      "cell_type": "code",
      "execution_count": null,
      "id": "30122f58-889c-4a8c-8507-fda36dd2b126",
      "metadata": {
        "id": "30122f58-889c-4a8c-8507-fda36dd2b126"
      },
      "outputs": [],
      "source": [
        "m=[1,4]"
      ]
    },
    {
      "cell_type": "code",
      "execution_count": null,
      "id": "5c8d580a-54bd-43bc-a037-c7e36096afa6",
      "metadata": {
        "id": "5c8d580a-54bd-43bc-a037-c7e36096afa6"
      },
      "outputs": [],
      "source": [
        "m[0] = \"x\""
      ]
    },
    {
      "cell_type": "code",
      "execution_count": null,
      "id": "5258b79f-3429-4c37-9366-9bf1b7ed23a5",
      "metadata": {
        "id": "5258b79f-3429-4c37-9366-9bf1b7ed23a5",
        "outputId": "4fc98471-1029-4509-8c46-757a108ea1ed"
      },
      "outputs": [
        {
          "data": {
            "text/plain": [
              "['x', 4]"
            ]
          },
          "execution_count": 228,
          "metadata": {},
          "output_type": "execute_result"
        }
      ],
      "source": [
        "m"
      ]
    },
    {
      "cell_type": "code",
      "execution_count": null,
      "id": "90ed1b3b-9171-4afe-ac70-80d6113761cf",
      "metadata": {
        "id": "90ed1b3b-9171-4afe-ac70-80d6113761cf",
        "outputId": "400c8c50-f023-4682-e41b-164d10362f09"
      },
      "outputs": [
        {
          "name": "stdout",
          "output_type": "stream",
          "text": [
            "48\n"
          ]
        }
      ],
      "source": [
        "def create_adder(x):\n",
        "    def adder(y,z):\n",
        "        return x+y+z\n",
        "\n",
        "    return adder\n",
        "\n",
        "add_15 = create_adder(15)\n",
        "\n",
        "print(add_15(10,23))\n"
      ]
    },
    {
      "cell_type": "code",
      "execution_count": null,
      "id": "21a9c9d9-f3d7-498b-ba6b-774ee121f55c",
      "metadata": {
        "id": "21a9c9d9-f3d7-498b-ba6b-774ee121f55c",
        "outputId": "9f4a977c-dbdb-460f-8dfe-60e798f27612"
      },
      "outputs": [
        {
          "data": {
            "text/plain": [
              "<function __main__.create_adder.<locals>.adder(y, z)>"
            ]
          },
          "execution_count": 237,
          "metadata": {},
          "output_type": "execute_result"
        }
      ],
      "source": [
        "create_adder(15)"
      ]
    },
    {
      "cell_type": "code",
      "execution_count": null,
      "id": "ecd2efbd-e43a-48e2-8563-7051bf8ee2a0",
      "metadata": {
        "id": "ecd2efbd-e43a-48e2-8563-7051bf8ee2a0",
        "outputId": "abce9e8d-18b1-430f-9fd6-d0ee3e402fc8"
      },
      "outputs": [
        {
          "data": {
            "text/plain": [
              "<function __main__.create_adder.<locals>.adder(y, z)>"
            ]
          },
          "execution_count": 239,
          "metadata": {},
          "output_type": "execute_result"
        }
      ],
      "source": [
        "create_adder(0)"
      ]
    },
    {
      "cell_type": "code",
      "execution_count": null,
      "id": "aa062aaa-36f7-4f39-b47d-cb699227a1d3",
      "metadata": {
        "id": "aa062aaa-36f7-4f39-b47d-cb699227a1d3"
      },
      "outputs": [],
      "source": []
    }
  ],
  "metadata": {
    "kernelspec": {
      "display_name": "Python 3 (ipykernel)",
      "language": "python",
      "name": "python3"
    },
    "language_info": {
      "codemirror_mode": {
        "name": "ipython",
        "version": 3
      },
      "file_extension": ".py",
      "mimetype": "text/x-python",
      "name": "python",
      "nbconvert_exporter": "python",
      "pygments_lexer": "ipython3",
      "version": "3.10.6"
    },
    "colab": {
      "provenance": [],
      "include_colab_link": true
    }
  },
  "nbformat": 4,
  "nbformat_minor": 5
}